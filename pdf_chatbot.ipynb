{
 "cells": [
  {
   "cell_type": "code",
   "execution_count": 1,
   "metadata": {},
   "outputs": [
    {
     "data": {
      "text/plain": [
       "\"Scholarships:\\n\\nOver 450 students have received scholarships up to Rs. 3.3 cr\\n\\nScholarship schemes are divided into 3 categories based on annual family income:\\no\\nCategory 1: 100% financial assistance for income under Rs. 4 lakh and possessing\\nthe National Food Security card\\no\\nCategory 2: 50% financial assistance for income up to Rs. 2.50 lakh\\no\\nCategory 3: 25% financial assistance for income between Rs. 2.50-6 lakh\\n\\nScholarships are also offered based on JEE ranking, 12th board result, and personal interview\\n\\nStudents get additional monetary benefits from the Delhi state government\\nPlacements and Industry Partnerships:\\n\\nUpcoming companies visiting campus for recruitment include Amazon, Grofers, Network 18,\\nCyber group, Appventures, Appsgardz, Mirketa\\n\\nExperiential learning partnerships with companies like Oracle Academy, Autodesk, Amazon\\nWeb Services, CETPA INFOTECH, CISCO Networking Academy, Shape my Skills, NIIT, Halp\\nTechnologies\\nUniversity Accreditation:\\n\\nIP University has accreditation from QS World Ranking, NAAC A++ rating and NIRF 74 ranking\\n\\nAKTU does not have these accreditations\\nTransport and Hostel Facilities:\\n\\nTransport facility available\\n\\nHostel options: Triple sharing 95k (non AC) / 1.1lac (AC), 5 days Triple sharing 74k / 85k,\\nDouble sharing 1.1 lac / 1.25 lac, Single room 1.5 lac / 1.65 lac\\nFee Structure:\\n\\nB.Tech course fee is 1,52,600 per year\\nCo-Curricular Societies:\\n\\nTechnical societies: GDSC, FOSS Club, ACM Student Chapter, Computer Engineering Student's\\nTechnical Association (CESTA), Random Solutions, Management Student's Society (MSS)\\n\\nCultural societies: Artistia Fine Arts Society, Conchord Music Club, Ameya Dance Society,\\nAwaaz Publication Society\\n\\nOther events like Hackathon, Codethon are also organized\\n\\nLeaders in Environment Action for the Future (LEAF) is another society\\nCampus Visit Invitation:\\n\\nInvitation to visit the campus and explore the institute further\\n\\nRequest to schedule a visit to the college campus\\nEvents/Workshops/Technical Activities:\\n\\nThey continuously organize events, workshops, technical activities, seminars, webinars and\\nmore on trending technologies and research areas for better development of students.\\n\\x0c\\nThey have well-equipped laboratories along with Project Lab, Mac Lab and Entrepreneurship\\nCell.\\nAcademic Achievements:\\n\\nStudents have outperformed in academics and secured top ranks in their departments.\\n\\nExamples: This year, Madhav Narang got a Gold Medal. Tamanna, a 2nd year CSE student,\\nsecured university 2nd rank.\\n\\nStudents have filed patents under the guidance of distinguished faculties.\\nEligibility:\\n\\nIn engineering, B.Tech is offered in Computer Science Engineering, Computer Science and\\nTechnology, Artificial Intelligence and Machine Learning, and AI & Data Science.\\n\\nValue-added courses are offered on IOT, SAP, Web development, Android development,\\nBusiness development, Data Analytics, Data Science, AI, Machine Learning, Django, Six Sigma\\n& Life Skills.\\n\\nMOU with i-STEP to provide International Master class/certificate courses on AI, Data Science,\\nCyber security and Entrepreneurship from Deakin University and UNSW University, Australia.\\n\\nCODE-TANTRA platform is provided for developing coding skills from the first year and soft\\nskills from the second year.\\nPlacement:\\n\\nOur highest placement is 24.6 LPA (Pragmatic Play), 2nd is 23 LPA (Vahan), 3rd is 20 LPA (Flat\\nWhite Capital). Average is 6-7 LPA with 100% placement assistance.\\n\\nA dedicated Placement and Guidance cell helps students get placed in renowned companies\\nlike IBM, HCL, TCS, Cognizant, Deloitte Capgemini, Infosys, WIPRO, Amazon, Adobe etc.\\n\\nThe University provides opportunities at many renowned companies for students.\\nOther Benefits:\\n\\nThe Innovation Council / E-Cell is a hub of creativity and problem-solving. It's where students\\ncome together to turn ideas into reality.\\n\\nMentorship programs are offered with experienced innovators.\\n\\nAccess to workshops on design thinking, prototyping, and other essential skills.\\n\\nThe council sponsors regular competitions and Hackathons to challenge and bring ideas to\\nlife.\\n\\nYou'll receive expert guidance on business planning, market research, and funding.\\n\\nIndustry leaders and potential investors are connected.\\n\\nThe E-Cell provides incubation spaces and resources to help startups take crucial first steps.\\n\\nAn entrepreneurship center, incubator, or innovation hub provides physical space,\\ninfrastructure, and resources for student startups.\\n\\nAccess to funding sources, grants, seed funding, angel investors, venture capitalists, or\\ncrowdfunding platforms is facilitated.\\n\\nLegal and administrative support is provided.\\n\\nA culture of collaboration and networking is fostered through events, entrepreneurship clubs,\\nand industry-academia interactions.\\n\\nInterdisciplinary collaboration is encouraged.\\nProvisional Fees for Academic Session 2024-25:\\n\\nB. Arch: Rs. 1,73,900/year\\n\\x0c\\nBCA: Rs. 1,16,500/year\\n\\nB. Tech (CSE, CST, AI&DS, AI&ML): Rs. 1,52,600/year\\n\\nLE B.Tech: Rs. 1,52,600/year\\n\\nMBA: Rs. 1,63,700/year\\nThe revised fee, if updated by the University/Govt. of NCT Delhi, shall be payable\\naccordingly. Value Added Courses will also be provided to students every year.\\nHostel Notice for Academic Session 2024-25:\\n\\nTriple Share Non AC Room: Rs. 1,00,000\\n\\nTriple Share AC Room: Rs. 1,20,000\\n\\nTriple Share (5 Days): Rs. 80,000 Non AC, Rs. 90,000 AC\\n\\nDouble Share: Rs. 1,20,000 Non AC, Rs. 1,35,000 AC\\n\\nSingle Share AC: Rs. 1,75,000\\n\\nDME Student Transport Charges: Rs. 36,000/year\\nLimited hostel seats are filled on a first-come, first-served basis. Students are advised\\nto book early to avoid disappointment.\\nScholarship offered by Delhi Government after Admissions:\\n\\nCategory 1 (Beneficiary under National Food Security & possesses ration card): 60%\\nQualifying Aggregate Percentage, 100% Financial Assistance\\n\\nCategory 2 (Family income up to Rs. 2.50 Lakh p.a.): 60% Qualifying Aggregate Percentage,\\n50% Financial Assistance\\n\\nCategory 3 (Family income above Rs. 2.50 Lakh p.a. but not exceeding Rs. 6 Lakh p.a.): 60%\\nQualifying Aggregate Percentage, 25% Financial Assistance\\nA 5% relaxation in qualifying aggregate percentage of marks will be allowed for\\nSC/ST category students. Scholarships are also available for meritorious students.\\nScholarships are offered based on examination results, class XII result, and JEE\\nMAINS score, along with a personal interview.\\n\""
      ]
     },
     "execution_count": 1,
     "metadata": {},
     "output_type": "execute_result"
    }
   ],
   "source": [
    "# source = https://pymupdf.readthedocs.io/en/latest/recipes-text.html#how-to-extract-all-document-text\n",
    "\n",
    "import pymupdf\n",
    "fname = \"content.pdf\"\n",
    "with pymupdf.open(fname) as doc:  # open document\n",
    "    text = chr(12).join([page.get_text() for page in doc])\n",
    "# write as a binary file to support non-ASCII characters\n",
    "\n",
    "import unicodedata\n",
    "\n",
    "def is_pua(c):\n",
    "    return unicodedata.category(c) == 'Co'\n",
    "\n",
    "\n",
    "final = \"\".join([char for char in text if not is_pua(char)])\n",
    "\n",
    "with open(\"content.txt\", \"w\") as f:\n",
    "    f.write(final)\n",
    "final"
   ]
  },
  {
   "cell_type": "code",
   "execution_count": 2,
   "metadata": {},
   "outputs": [
    {
     "name": "stderr",
     "output_type": "stream",
     "text": [
      "<>:7: SyntaxWarning: invalid escape sequence '\\s'\n",
      "<>:8: SyntaxWarning: invalid escape sequence '\\s'\n",
      "<>:7: SyntaxWarning: invalid escape sequence '\\s'\n",
      "<>:8: SyntaxWarning: invalid escape sequence '\\s'\n",
      "C:\\Users\\chana\\AppData\\Local\\Temp\\ipykernel_7576\\3655982238.py:7: SyntaxWarning: invalid escape sequence '\\s'\n",
      "  source_text = re.sub(\"\\s+\", \" \", source_text)  # Replace multiple whitespaces\n",
      "C:\\Users\\chana\\AppData\\Local\\Temp\\ipykernel_7576\\3655982238.py:8: SyntaxWarning: invalid escape sequence '\\s'\n",
      "  return re.split(\"\\s\", source_text)  # Split by single whitespace\n"
     ]
    },
    {
     "data": {
      "text/plain": [
       "[\"Scholarships: Over 450 students have received scholarships up to Rs. 3.3 cr Scholarship schemes are divided into 3 categories based on annual family income: o Category 1: 100% financial assistance for income under Rs. 4 lakh and possessing the National Food Security card o Category 2: 50% financial assistance for income up to Rs. 2.50 lakh o Category 3: 25% financial assistance for income between Rs. 2.50-6 lakh Scholarships are also offered based on JEE ranking, 12th board result, and personal interview Students get additional monetary benefits from the Delhi state government Placements and Industry Partnerships: Upcoming companies visiting campus for recruitment include Amazon, Grofers, Network 18, Cyber group, Appventures, Appsgardz, Mirketa Experiential learning partnerships with companies like Oracle Academy, Autodesk, Amazon Web Services, CETPA INFOTECH, CISCO Networking Academy, Shape my Skills, NIIT, Halp Technologies University Accreditation: IP University has accreditation from QS World Ranking, NAAC A++ rating and NIRF 74 ranking AKTU does not have these accreditations Transport and Hostel Facilities: Transport facility available Hostel options: Triple sharing 95k (non AC) / 1.1lac (AC), 5 days Triple sharing 74k / 85k, Double sharing 1.1 lac / 1.25 lac, Single room 1.5 lac / 1.65 lac Fee Structure: B.Tech course fee is 1,52,600 per year Co-Curricular Societies: Technical societies: GDSC, FOSS Club, ACM Student Chapter, Computer Engineering Student's Technical Association (CESTA), Random Solutions, Management Student's Society (MSS) Cultural societies: Artistia Fine Arts Society, Conchord Music Club, Ameya Dance Society, Awaaz Publication Society Other events like Hackathon, Codethon are also organized Leaders in Environment Action for the Future (LEAF) is another society Campus Visit Invitation: Invitation to visit the campus and explore the institute further Request to schedule a visit to the college campus Events/Workshops/Technical Activities: They continuously organize events, workshops, technical activities, seminars, webinars and more on trending technologies and research areas for better development of students. They have well-equipped laboratories along with Project Lab, Mac Lab and Entrepreneurship Cell. Academic Achievements: Students have outperformed in academics and secured top ranks in their departments. Examples: This year, Madhav Narang got a Gold Medal. Tamanna, a 2nd year CSE student, secured university 2nd rank. Students have filed patents under the guidance of distinguished faculties. Eligibility: In engineering, B.Tech is offered in Computer Science Engineering, Computer Science and Technology, Artificial Intelligence and Machine Learning, and AI & Data Science. Value-added courses are offered on IOT, SAP, Web development, Android development, Business development, Data Analytics, Data Science, AI, Machine Learning, Django, Six Sigma & Life Skills. MOU with i-STEP to provide International Master class/certificate courses on AI, Data Science, Cyber security and Entrepreneurship from Deakin University and UNSW University, Australia. CODE-TANTRA platform is provided for developing coding skills from the first year and soft skills from the second year. Placement: Our highest placement is 24.6 LPA (Pragmatic Play), 2nd is 23 LPA (Vahan), 3rd is 20 LPA (Flat White Capital). Average is 6-7 LPA with 100% placement assistance. A dedicated Placement and Guidance cell helps students get placed in renowned companies like IBM, HCL, TCS, Cognizant, Deloitte Capgemini, Infosys, WIPRO, Amazon, Adobe etc. The University provides opportunities at many renowned companies for students. Other Benefits: The Innovation Council / E-Cell is a hub of creativity and problem-solving. It's where students come together to turn ideas into reality. Mentorship programs are offered with experienced innovators. Access to workshops on design thinking, prototyping, and other essential skills. The council sponsors regular competitions and Hackathons to challenge and bring ideas to life. You'll receive expert guidance on business planning, market research, and funding. Industry leaders and potential investors are connected. The E-Cell provides incubation spaces and resources to help startups take crucial first steps. An entrepreneurship center, incubator, or innovation hub provides physical space, infrastructure, and resources for student startups. Access to funding sources, grants, seed funding, angel investors, venture capitalists, or crowdfunding platforms is facilitated. Legal and administrative support is provided. A culture of collaboration and networking is fostered through events, entrepreneurship clubs, and industry-academia interactions. Interdisciplinary collaboration is encouraged. Provisional Fees for Academic Session 2024-25: B. Arch: Rs. 1,73,900/year BCA: Rs. 1,16,500/year B. Tech (CSE, CST, AI&DS, AI&ML): Rs. 1,52,600/year LE B.Tech: Rs. 1,52,600/year MBA: Rs. 1,63,700/year The revised fee, if updated by the University/Govt. of NCT Delhi, shall be payable accordingly. Value Added Courses will also be provided to students every year. Hostel Notice for Academic Session 2024-25: Triple Share Non AC Room: Rs. 1,00,000 Triple Share AC Room: Rs. 1,20,000 Triple Share (5 Days): Rs. 80,000 Non AC, Rs. 90,000 AC Double Share: Rs. 1,20,000 Non AC, Rs. 1,35,000 AC Single Share AC: Rs. 1,75,000 DME Student Transport Charges: Rs. 36,000/year Limited hostel seats are filled on a first-come, first-served basis. Students are advised to book early to avoid disappointment. Scholarship offered by Delhi Government after Admissions: Category 1 (Beneficiary under National Food Security & possesses ration card): 60% Qualifying Aggregate Percentage, 100% Financial Assistance Category 2 (Family income up to Rs. 2.50 Lakh p.a.): 60% Qualifying Aggregate Percentage, 50% Financial Assistance Category 3 (Family income above Rs. 2.50 Lakh p.a. but not exceeding Rs. 6 Lakh p.a.): 60% Qualifying Aggregate Percentage, 25% Financial Assistance A 5% relaxation in qualifying aggregate percentage of marks will be allowed for SC/ST category students. Scholarships are also available for meritorious students. Scholarships are offered based on examination results, class XII result, and JEE MAINS score, along with a personal interview. \"]"
      ]
     },
     "execution_count": 2,
     "metadata": {},
     "output_type": "execute_result"
    }
   ],
   "source": [
    "# source = https://www.restack.io/p/text-chunking-answer-chatbot-cat-ai\n",
    "\n",
    "from typing import List  \n",
    "\n",
    "def word_splitter(source_text: str) -> List[str]:  \n",
    "    import re  \n",
    "    source_text = re.sub(\"\\s+\", \" \", source_text)  # Replace multiple whitespaces  \n",
    "    return re.split(\"\\s\", source_text)  # Split by single whitespace \n",
    "\n",
    "def get_chunks_fixed_size_with_overlap(text: str, chunk_size: int, overlap_fraction: float) -> List[str]:  \n",
    "    text_words = word_splitter(text)  \n",
    "    overlap_int = int(chunk_size * overlap_fraction)  \n",
    "    chunks = []  \n",
    "    for i in range(0, len(text_words), chunk_size):  \n",
    "        chunk_words = text_words[max(i - overlap_int, 0): i + chunk_size]  \n",
    "        chunk = \" \".join(chunk_words)  \n",
    "        chunks.append(chunk)  \n",
    "    return chunks \n",
    "\n",
    "chunks = get_chunks_fixed_size_with_overlap(final, 9999, overlap_fraction=0.2)   \n",
    "chunks\n"
   ]
  },
  {
   "cell_type": "code",
   "execution_count": 3,
   "metadata": {},
   "outputs": [
    {
     "name": "stderr",
     "output_type": "stream",
     "text": [
      "C:\\Users\\chana\\AppData\\Local\\Packages\\PythonSoftwareFoundation.Python.3.12_qbz5n2kfra8p0\\LocalCache\\local-packages\\Python312\\site-packages\\tqdm\\auto.py:21: TqdmWarning: IProgress not found. Please update jupyter and ipywidgets. See https://ipywidgets.readthedocs.io/en/stable/user_install.html\n",
      "  from .autonotebook import tqdm as notebook_tqdm\n"
     ]
    }
   ],
   "source": [
    "#!pip install -U -q \"google-generativeai>=0.7.2\"\n",
    "import textwrap # for formatting the prompt\n",
    "import numpy as np # for implementing RAG\n",
    "import pandas as pd # to handle the data and embeddings\n",
    "\n",
    "import google.generativeai as genai # to call the api\n",
    "\n",
    "from IPython.display import Markdown # to access the response from the chatbot in proper format"
   ]
  },
  {
   "cell_type": "code",
   "execution_count": 4,
   "metadata": {},
   "outputs": [],
   "source": [
    "genai.configure(api_key=\"Your api key\")"
   ]
  },
  {
   "cell_type": "code",
   "execution_count": 5,
   "metadata": {},
   "outputs": [
    {
     "data": {
      "text/plain": [
       "[{'Title': 'Scholarships:',\n",
       "  'content': \"Scholarships: Over 450 students have received scholarships up to Rs. 3.3 cr Scholarship schemes are divided into 3 categories based on annual family income: o Category 1: 100% financial assistance for income under Rs. 4 lakh and possessing the National Food Security card o Category 2: 50% financial assistance for income up to Rs. 2.50 lakh o Category 3: 25% financial assistance for income between Rs. 2.50-6 lakh Scholarships are also offered based on JEE ranking, 12th board result, and personal interview Students get additional monetary benefits from the Delhi state government Placements and Industry Partnerships: Upcoming companies visiting campus for recruitment include Amazon, Grofers, Network 18, Cyber group, Appventures, Appsgardz, Mirketa Experiential learning partnerships with companies like Oracle Academy, Autodesk, Amazon Web Services, CETPA INFOTECH, CISCO Networking Academy, Shape my Skills, NIIT, Halp Technologies University Accreditation: IP University has accreditation from QS World Ranking, NAAC A++ rating and NIRF 74 ranking AKTU does not have these accreditations Transport and Hostel Facilities: Transport facility available Hostel options: Triple sharing 95k (non AC) / 1.1lac (AC), 5 days Triple sharing 74k / 85k, Double sharing 1.1 lac / 1.25 lac, Single room 1.5 lac / 1.65 lac Fee Structure: B.Tech course fee is 1,52,600 per year Co-Curricular Societies: Technical societies: GDSC, FOSS Club, ACM Student Chapter, Computer Engineering Student's Technical Association (CESTA), Random Solutions, Management Student's Society (MSS) Cultural societies: Artistia Fine Arts Society, Conchord Music Club, Ameya Dance Society, Awaaz Publication Society Other events like Hackathon, Codethon are also organized Leaders in Environment Action for the Future (LEAF) is another society Campus Visit Invitation: Invitation to visit the campus and explore the institute further Request to schedule a visit to the college campus Events/Workshops/Technical Activities: They continuously organize events, workshops, technical activities, seminars, webinars and more on trending technologies and research areas for better development of students. They have well-equipped laboratories along with Project Lab, Mac Lab and Entrepreneurship Cell. Academic Achievements: Students have outperformed in academics and secured top ranks in their departments. Examples: This year, Madhav Narang got a Gold Medal. Tamanna, a 2nd year CSE student, secured university 2nd rank. Students have filed patents under the guidance of distinguished faculties. Eligibility: In engineering, B.Tech is offered in Computer Science Engineering, Computer Science and Technology, Artificial Intelligence and Machine Learning, and AI & Data Science. Value-added courses are offered on IOT, SAP, Web development, Android development, Business development, Data Analytics, Data Science, AI, Machine Learning, Django, Six Sigma & Life Skills. MOU with i-STEP to provide International Master class/certificate courses on AI, Data Science, Cyber security and Entrepreneurship from Deakin University and UNSW University, Australia. CODE-TANTRA platform is provided for developing coding skills from the first year and soft skills from the second year. Placement: Our highest placement is 24.6 LPA (Pragmatic Play), 2nd is 23 LPA (Vahan), 3rd is 20 LPA (Flat White Capital). Average is 6-7 LPA with 100% placement assistance. A dedicated Placement and Guidance cell helps students get placed in renowned companies like IBM, HCL, TCS, Cognizant, Deloitte Capgemini, Infosys, WIPRO, Amazon, Adobe etc. The University provides opportunities at many renowned companies for students. Other Benefits: The Innovation Council / E-Cell is a hub of creativity and problem-solving. It's where students come together to turn ideas into reality. Mentorship programs are offered with experienced innovators. Access to workshops on design thinking, prototyping, and other essential skills. The council sponsors regular competitions and Hackathons to challenge and bring ideas to life. You'll receive expert guidance on business planning, market research, and funding. Industry leaders and potential investors are connected. The E-Cell provides incubation spaces and resources to help startups take crucial first steps. An entrepreneurship center, incubator, or innovation hub provides physical space, infrastructure, and resources for student startups. Access to funding sources, grants, seed funding, angel investors, venture capitalists, or crowdfunding platforms is facilitated. Legal and administrative support is provided. A culture of collaboration and networking is fostered through events, entrepreneurship clubs, and industry-academia interactions. Interdisciplinary collaboration is encouraged. Provisional Fees for Academic Session 2024-25: B. Arch: Rs. 1,73,900/year BCA: Rs. 1,16,500/year B. Tech (CSE, CST, AI&DS, AI&ML): Rs. 1,52,600/year LE B.Tech: Rs. 1,52,600/year MBA: Rs. 1,63,700/year The revised fee, if updated by the University/Govt. of NCT Delhi, shall be payable accordingly. Value Added Courses will also be provided to students every year. Hostel Notice for Academic Session 2024-25: Triple Share Non AC Room: Rs. 1,00,000 Triple Share AC Room: Rs. 1,20,000 Triple Share (5 Days): Rs. 80,000 Non AC, Rs. 90,000 AC Double Share: Rs. 1,20,000 Non AC, Rs. 1,35,000 AC Single Share AC: Rs. 1,75,000 DME Student Transport Charges: Rs. 36,000/year Limited hostel seats are filled on a first-come, first-served basis. Students are advised to book early to avoid disappointment. Scholarship offered by Delhi Government after Admissions: Category 1 (Beneficiary under National Food Security & possesses ration card): 60% Qualifying Aggregate Percentage, 100% Financial Assistance Category 2 (Family income up to Rs. 2.50 Lakh p.a.): 60% Qualifying Aggregate Percentage, 50% Financial Assistance Category 3 (Family income above Rs. 2.50 Lakh p.a. but not exceeding Rs. 6 Lakh p.a.): 60% Qualifying Aggregate Percentage, 25% Financial Assistance A 5% relaxation in qualifying aggregate percentage of marks will be allowed for SC/ST category students. Scholarships are also available for meritorious students. Scholarships are offered based on examination results, class XII result, and JEE MAINS score, along with a personal interview. \"}]"
      ]
     },
     "execution_count": 5,
     "metadata": {},
     "output_type": "execute_result"
    }
   ],
   "source": [
    "Doc = []\n",
    "for i in chunks:\n",
    "    doc_temp = {}\n",
    "    doc_temp[\"Title\"] = i.split()[0]\n",
    "    doc_temp[\"content\"] = i\n",
    "    Doc.append(doc_temp)\n",
    "Doc"
   ]
  },
  {
   "cell_type": "code",
   "execution_count": 6,
   "metadata": {},
   "outputs": [
    {
     "data": {
      "text/html": [
       "<div>\n",
       "<style scoped>\n",
       "    .dataframe tbody tr th:only-of-type {\n",
       "        vertical-align: middle;\n",
       "    }\n",
       "\n",
       "    .dataframe tbody tr th {\n",
       "        vertical-align: top;\n",
       "    }\n",
       "\n",
       "    .dataframe thead th {\n",
       "        text-align: right;\n",
       "    }\n",
       "</style>\n",
       "<table border=\"1\" class=\"dataframe\">\n",
       "  <thead>\n",
       "    <tr style=\"text-align: right;\">\n",
       "      <th></th>\n",
       "      <th>Title</th>\n",
       "      <th>Text</th>\n",
       "    </tr>\n",
       "  </thead>\n",
       "  <tbody>\n",
       "    <tr>\n",
       "      <th>0</th>\n",
       "      <td>Scholarships:</td>\n",
       "      <td>Scholarships: Over 450 students have received ...</td>\n",
       "    </tr>\n",
       "  </tbody>\n",
       "</table>\n",
       "</div>"
      ],
      "text/plain": [
       "           Title                                               Text\n",
       "0  Scholarships:  Scholarships: Over 450 students have received ..."
      ]
     },
     "execution_count": 6,
     "metadata": {},
     "output_type": "execute_result"
    }
   ],
   "source": [
    "df = pd.DataFrame(Doc)\n",
    "df.columns = ['Title', 'Text']\n",
    "df"
   ]
  },
  {
   "cell_type": "code",
   "execution_count": 7,
   "metadata": {},
   "outputs": [
    {
     "data": {
      "text/html": [
       "<div>\n",
       "<style scoped>\n",
       "    .dataframe tbody tr th:only-of-type {\n",
       "        vertical-align: middle;\n",
       "    }\n",
       "\n",
       "    .dataframe tbody tr th {\n",
       "        vertical-align: top;\n",
       "    }\n",
       "\n",
       "    .dataframe thead th {\n",
       "        text-align: right;\n",
       "    }\n",
       "</style>\n",
       "<table border=\"1\" class=\"dataframe\">\n",
       "  <thead>\n",
       "    <tr style=\"text-align: right;\">\n",
       "      <th></th>\n",
       "      <th>Title</th>\n",
       "      <th>Text</th>\n",
       "      <th>Embeddings</th>\n",
       "    </tr>\n",
       "  </thead>\n",
       "  <tbody>\n",
       "    <tr>\n",
       "      <th>0</th>\n",
       "      <td>Scholarships:</td>\n",
       "      <td>Scholarships: Over 450 students have received ...</td>\n",
       "      <td>[0.06562772, -0.032361746, -0.054728627, 0.021...</td>\n",
       "    </tr>\n",
       "  </tbody>\n",
       "</table>\n",
       "</div>"
      ],
      "text/plain": [
       "           Title                                               Text  \\\n",
       "0  Scholarships:  Scholarships: Over 450 students have received ...   \n",
       "\n",
       "                                          Embeddings  \n",
       "0  [0.06562772, -0.032361746, -0.054728627, 0.021...  "
      ]
     },
     "execution_count": 7,
     "metadata": {},
     "output_type": "execute_result"
    }
   ],
   "source": [
    "model = 'models/embedding-001'\n",
    "def embed_fn(title, text):\n",
    "  return genai.embed_content(model=model,\n",
    "                             content=text,\n",
    "                             task_type=\"retrieval_document\",\n",
    "                             title=title)[\"embedding\"]\n",
    "\n",
    "df['Embeddings'] = df.apply(lambda row: embed_fn(row['Title'], row['Text']), axis=1)\n",
    "df"
   ]
  },
  {
   "cell_type": "code",
   "execution_count": 8,
   "metadata": {},
   "outputs": [],
   "source": [
    "def find_best_passage(query, dataframe):\n",
    "  \"\"\"\n",
    "  Compute the distances between the query and each document in the dataframe\n",
    "  using the dot product.\n",
    "  \"\"\"\n",
    "  query_embedding = genai.embed_content(model= 'models/embedding-001',\n",
    "                                        content=query,\n",
    "                                        task_type=\"retrieval_query\")\n",
    "  dot_products = np.dot(np.stack(dataframe['Embeddings']), query_embedding[\"embedding\"])\n",
    "  idx = np.argmax(dot_products)\n",
    "  return dataframe.iloc[idx]['Text']"
   ]
  },
  {
   "cell_type": "code",
   "execution_count": 9,
   "metadata": {},
   "outputs": [
    {
     "data": {
      "text/plain": [
       "\"Scholarships: Over 450 students have received scholarships up to Rs. 3.3 cr Scholarship schemes are divided into 3 categories based on annual family income: o Category 1: 100% financial assistance for income under Rs. 4 lakh and possessing the National Food Security card o Category 2: 50% financial assistance for income up to Rs. 2.50 lakh o Category 3: 25% financial assistance for income between Rs. 2.50-6 lakh Scholarships are also offered based on JEE ranking, 12th board result, and personal interview Students get additional monetary benefits from the Delhi state government Placements and Industry Partnerships: Upcoming companies visiting campus for recruitment include Amazon, Grofers, Network 18, Cyber group, Appventures, Appsgardz, Mirketa Experiential learning partnerships with companies like Oracle Academy, Autodesk, Amazon Web Services, CETPA INFOTECH, CISCO Networking Academy, Shape my Skills, NIIT, Halp Technologies University Accreditation: IP University has accreditation from QS World Ranking, NAAC A++ rating and NIRF 74 ranking AKTU does not have these accreditations Transport and Hostel Facilities: Transport facility available Hostel options: Triple sharing 95k (non AC) / 1.1lac (AC), 5 days Triple sharing 74k / 85k, Double sharing 1.1 lac / 1.25 lac, Single room 1.5 lac / 1.65 lac Fee Structure: B.Tech course fee is 1,52,600 per year Co-Curricular Societies: Technical societies: GDSC, FOSS Club, ACM Student Chapter, Computer Engineering Student's Technical Association (CESTA), Random Solutions, Management Student's Society (MSS) Cultural societies: Artistia Fine Arts Society, Conchord Music Club, Ameya Dance Society, Awaaz Publication Society Other events like Hackathon, Codethon are also organized Leaders in Environment Action for the Future (LEAF) is another society Campus Visit Invitation: Invitation to visit the campus and explore the institute further Request to schedule a visit to the college campus Events/Workshops/Technical Activities: They continuously organize events, workshops, technical activities, seminars, webinars and more on trending technologies and research areas for better development of students. They have well-equipped laboratories along with Project Lab, Mac Lab and Entrepreneurship Cell. Academic Achievements: Students have outperformed in academics and secured top ranks in their departments. Examples: This year, Madhav Narang got a Gold Medal. Tamanna, a 2nd year CSE student, secured university 2nd rank. Students have filed patents under the guidance of distinguished faculties. Eligibility: In engineering, B.Tech is offered in Computer Science Engineering, Computer Science and Technology, Artificial Intelligence and Machine Learning, and AI & Data Science. Value-added courses are offered on IOT, SAP, Web development, Android development, Business development, Data Analytics, Data Science, AI, Machine Learning, Django, Six Sigma & Life Skills. MOU with i-STEP to provide International Master class/certificate courses on AI, Data Science, Cyber security and Entrepreneurship from Deakin University and UNSW University, Australia. CODE-TANTRA platform is provided for developing coding skills from the first year and soft skills from the second year. Placement: Our highest placement is 24.6 LPA (Pragmatic Play), 2nd is 23 LPA (Vahan), 3rd is 20 LPA (Flat White Capital). Average is 6-7 LPA with 100% placement assistance. A dedicated Placement and Guidance cell helps students get placed in renowned companies like IBM, HCL, TCS, Cognizant, Deloitte Capgemini, Infosys, WIPRO, Amazon, Adobe etc. The University provides opportunities at many renowned companies for students. Other Benefits: The Innovation Council / E-Cell is a hub of creativity and problem-solving. It's where students come together to turn ideas into reality. Mentorship programs are offered with experienced innovators. Access to workshops on design thinking, prototyping, and other essential skills. The council sponsors regular competitions and Hackathons to challenge and bring ideas to life. You'll receive expert guidance on business planning, market research, and funding. Industry leaders and potential investors are connected. The E-Cell provides incubation spaces and resources to help startups take crucial first steps. An entrepreneurship center, incubator, or innovation hub provides physical space, infrastructure, and resources for student startups. Access to funding sources, grants, seed funding, angel investors, venture capitalists, or crowdfunding platforms is facilitated. Legal and administrative support is provided. A culture of collaboration and networking is fostered through events, entrepreneurship clubs, and industry-academia interactions. Interdisciplinary collaboration is encouraged. Provisional Fees for Academic Session 2024-25: B. Arch: Rs. 1,73,900/year BCA: Rs. 1,16,500/year B. Tech (CSE, CST, AI&DS, AI&ML): Rs. 1,52,600/year LE B.Tech: Rs. 1,52,600/year MBA: Rs. 1,63,700/year The revised fee, if updated by the University/Govt. of NCT Delhi, shall be payable accordingly. Value Added Courses will also be provided to students every year. Hostel Notice for Academic Session 2024-25: Triple Share Non AC Room: Rs. 1,00,000 Triple Share AC Room: Rs. 1,20,000 Triple Share (5 Days): Rs. 80,000 Non AC, Rs. 90,000 AC Double Share: Rs. 1,20,000 Non AC, Rs. 1,35,000 AC Single Share AC: Rs. 1,75,000 DME Student Transport Charges: Rs. 36,000/year Limited hostel seats are filled on a first-come, first-served basis. Students are advised to book early to avoid disappointment. Scholarship offered by Delhi Government after Admissions: Category 1 (Beneficiary under National Food Security & possesses ration card): 60% Qualifying Aggregate Percentage, 100% Financial Assistance Category 2 (Family income up to Rs. 2.50 Lakh p.a.): 60% Qualifying Aggregate Percentage, 50% Financial Assistance Category 3 (Family income above Rs. 2.50 Lakh p.a. but not exceeding Rs. 6 Lakh p.a.): 60% Qualifying Aggregate Percentage, 25% Financial Assistance A 5% relaxation in qualifying aggregate percentage of marks will be allowed for SC/ST category students. Scholarships are also available for meritorious students. Scholarships are offered based on examination results, class XII result, and JEE MAINS score, along with a personal interview. \""
      ]
     },
     "execution_count": 9,
     "metadata": {},
     "output_type": "execute_result"
    }
   ],
   "source": [
    "query = \"What can you tell me about the college Delhi Technical campus ?\"\n",
    "passage = find_best_passage(query, df)\n",
    "passage"
   ]
  },
  {
   "cell_type": "code",
   "execution_count": 10,
   "metadata": {},
   "outputs": [],
   "source": [
    "def make_prompt(query, relevant_passage):\n",
    "  escaped = relevant_passage.replace(\"'\", \"\").replace('\"', \"\").replace(\"\\n\", \" \")\n",
    "  prompt = textwrap.dedent(\"\"\"You are a chatbot for the college Delhi technical campus, who is on the website of the college and you will be answering the questions of the incoming\n",
    "  students. Use the passage to answer the questions. Also don't repeat information and try to make your response more human like.\n",
    "  QUESTION: '{query}'\n",
    "  PASSAGE: '{relevant_passage}'\n",
    "\n",
    "    ANSWER:\n",
    "  \"\"\").format(query=query, relevant_passage=escaped)\n",
    "\n",
    "  return prompt"
   ]
  },
  {
   "cell_type": "code",
   "execution_count": 11,
   "metadata": {},
   "outputs": [
    {
     "name": "stdout",
     "output_type": "stream",
     "text": [
      "You are a chatbot for the college Delhi technical campus, who is on the website of the college and you will be answering the questions of the incoming\n",
      "  students. Use the passage to answer the questions. Also don't repeat information and try to make your response more human like.\n",
      "  QUESTION: 'What can you tell me about the college Delhi Technical campus ?'\n",
      "  PASSAGE: 'Scholarships: Over 450 students have received scholarships up to Rs. 3.3 cr Scholarship schemes are divided into 3 categories based on annual family income: o Category 1: 100% financial assistance for income under Rs. 4 lakh and possessing the National Food Security card o Category 2: 50% financial assistance for income up to Rs. 2.50 lakh o Category 3: 25% financial assistance for income between Rs. 2.50-6 lakh Scholarships are also offered based on JEE ranking, 12th board result, and personal interview Students get additional monetary benefits from the Delhi state government Placements and Industry Partnerships: Upcoming companies visiting campus for recruitment include Amazon, Grofers, Network 18, Cyber group, Appventures, Appsgardz, Mirketa Experiential learning partnerships with companies like Oracle Academy, Autodesk, Amazon Web Services, CETPA INFOTECH, CISCO Networking Academy, Shape my Skills, NIIT, Halp Technologies University Accreditation: IP University has accreditation from QS World Ranking, NAAC A++ rating and NIRF 74 ranking AKTU does not have these accreditations Transport and Hostel Facilities: Transport facility available Hostel options: Triple sharing 95k (non AC) / 1.1lac (AC), 5 days Triple sharing 74k / 85k, Double sharing 1.1 lac / 1.25 lac, Single room 1.5 lac / 1.65 lac Fee Structure: B.Tech course fee is 1,52,600 per year Co-Curricular Societies: Technical societies: GDSC, FOSS Club, ACM Student Chapter, Computer Engineering Students Technical Association (CESTA), Random Solutions, Management Students Society (MSS) Cultural societies: Artistia Fine Arts Society, Conchord Music Club, Ameya Dance Society, Awaaz Publication Society Other events like Hackathon, Codethon are also organized Leaders in Environment Action for the Future (LEAF) is another society Campus Visit Invitation: Invitation to visit the campus and explore the institute further Request to schedule a visit to the college campus Events/Workshops/Technical Activities: They continuously organize events, workshops, technical activities, seminars, webinars and more on trending technologies and research areas for better development of students. They have well-equipped laboratories along with Project Lab, Mac Lab and Entrepreneurship Cell. Academic Achievements: Students have outperformed in academics and secured top ranks in their departments. Examples: This year, Madhav Narang got a Gold Medal. Tamanna, a 2nd year CSE student, secured university 2nd rank. Students have filed patents under the guidance of distinguished faculties. Eligibility: In engineering, B.Tech is offered in Computer Science Engineering, Computer Science and Technology, Artificial Intelligence and Machine Learning, and AI & Data Science. Value-added courses are offered on IOT, SAP, Web development, Android development, Business development, Data Analytics, Data Science, AI, Machine Learning, Django, Six Sigma & Life Skills. MOU with i-STEP to provide International Master class/certificate courses on AI, Data Science, Cyber security and Entrepreneurship from Deakin University and UNSW University, Australia. CODE-TANTRA platform is provided for developing coding skills from the first year and soft skills from the second year. Placement: Our highest placement is 24.6 LPA (Pragmatic Play), 2nd is 23 LPA (Vahan), 3rd is 20 LPA (Flat White Capital). Average is 6-7 LPA with 100% placement assistance. A dedicated Placement and Guidance cell helps students get placed in renowned companies like IBM, HCL, TCS, Cognizant, Deloitte Capgemini, Infosys, WIPRO, Amazon, Adobe etc. The University provides opportunities at many renowned companies for students. Other Benefits: The Innovation Council / E-Cell is a hub of creativity and problem-solving. Its where students come together to turn ideas into reality. Mentorship programs are offered with experienced innovators. Access to workshops on design thinking, prototyping, and other essential skills. The council sponsors regular competitions and Hackathons to challenge and bring ideas to life. Youll receive expert guidance on business planning, market research, and funding. Industry leaders and potential investors are connected. The E-Cell provides incubation spaces and resources to help startups take crucial first steps. An entrepreneurship center, incubator, or innovation hub provides physical space, infrastructure, and resources for student startups. Access to funding sources, grants, seed funding, angel investors, venture capitalists, or crowdfunding platforms is facilitated. Legal and administrative support is provided. A culture of collaboration and networking is fostered through events, entrepreneurship clubs, and industry-academia interactions. Interdisciplinary collaboration is encouraged. Provisional Fees for Academic Session 2024-25: B. Arch: Rs. 1,73,900/year BCA: Rs. 1,16,500/year B. Tech (CSE, CST, AI&DS, AI&ML): Rs. 1,52,600/year LE B.Tech: Rs. 1,52,600/year MBA: Rs. 1,63,700/year The revised fee, if updated by the University/Govt. of NCT Delhi, shall be payable accordingly. Value Added Courses will also be provided to students every year. Hostel Notice for Academic Session 2024-25: Triple Share Non AC Room: Rs. 1,00,000 Triple Share AC Room: Rs. 1,20,000 Triple Share (5 Days): Rs. 80,000 Non AC, Rs. 90,000 AC Double Share: Rs. 1,20,000 Non AC, Rs. 1,35,000 AC Single Share AC: Rs. 1,75,000 DME Student Transport Charges: Rs. 36,000/year Limited hostel seats are filled on a first-come, first-served basis. Students are advised to book early to avoid disappointment. Scholarship offered by Delhi Government after Admissions: Category 1 (Beneficiary under National Food Security & possesses ration card): 60% Qualifying Aggregate Percentage, 100% Financial Assistance Category 2 (Family income up to Rs. 2.50 Lakh p.a.): 60% Qualifying Aggregate Percentage, 50% Financial Assistance Category 3 (Family income above Rs. 2.50 Lakh p.a. but not exceeding Rs. 6 Lakh p.a.): 60% Qualifying Aggregate Percentage, 25% Financial Assistance A 5% relaxation in qualifying aggregate percentage of marks will be allowed for SC/ST category students. Scholarships are also available for meritorious students. Scholarships are offered based on examination results, class XII result, and JEE MAINS score, along with a personal interview. '\n",
      "\n",
      "    ANSWER:\n",
      "\n"
     ]
    }
   ],
   "source": [
    "prompt = make_prompt(query, passage)\n",
    "print(prompt)"
   ]
  },
  {
   "cell_type": "code",
   "execution_count": 12,
   "metadata": {},
   "outputs": [
    {
     "data": {
      "text/plain": [
       "response:\n",
       "GenerateContentResponse(\n",
       "    done=True,\n",
       "    iterator=None,\n",
       "    result=protos.GenerateContentResponse({\n",
       "      \"candidates\": [\n",
       "        {\n",
       "          \"content\": {\n",
       "            \"parts\": [\n",
       "              {\n",
       "                \"text\": \"Delhi Technical Campus sounds like a great place to study! It's part of IP University, which has some pretty impressive accreditations like a QS World Ranking, NAAC A++ rating, and NIRF 74 ranking.  They have a strong focus on practical learning with partnerships with companies like Oracle Academy, Autodesk, and Amazon Web Services.  \\n\\nYou'll have lots of opportunities to get hands-on experience through workshops, technical activities, and hackathons. There are also technical and cultural societies to join so you can explore your interests outside the classroom.  \\n\\nThe placement record is pretty good too, with a high placement rate and average salary of 6-7 LPA. You can get help from their placement cell to land a job at companies like IBM, HCL, TCS, Cognizant, Deloitte Capgemini, Infosys, WIPRO, Amazon, and Adobe.\\n\\nIf you're interested in entrepreneurship, there's an Innovation Council / E-Cell that can help you turn your ideas into reality. They offer mentorship programs, workshops, and even funding opportunities for startups.  \\n\\nOverall, Delhi Technical Campus seems like a good choice for students looking for a well-rounded education with good career prospects.\\n\"\n",
       "              }\n",
       "            ],\n",
       "            \"role\": \"model\"\n",
       "          },\n",
       "          \"finish_reason\": \"STOP\",\n",
       "          \"index\": 0,\n",
       "          \"safety_ratings\": [\n",
       "            {\n",
       "              \"category\": \"HARM_CATEGORY_SEXUALLY_EXPLICIT\",\n",
       "              \"probability\": \"NEGLIGIBLE\"\n",
       "            },\n",
       "            {\n",
       "              \"category\": \"HARM_CATEGORY_HATE_SPEECH\",\n",
       "              \"probability\": \"NEGLIGIBLE\"\n",
       "            },\n",
       "            {\n",
       "              \"category\": \"HARM_CATEGORY_HARASSMENT\",\n",
       "              \"probability\": \"NEGLIGIBLE\"\n",
       "            },\n",
       "            {\n",
       "              \"category\": \"HARM_CATEGORY_DANGEROUS_CONTENT\",\n",
       "              \"probability\": \"NEGLIGIBLE\"\n",
       "            }\n",
       "          ]\n",
       "        }\n",
       "      ],\n",
       "      \"usage_metadata\": {\n",
       "        \"prompt_token_count\": 1549,\n",
       "        \"candidates_token_count\": 250,\n",
       "        \"total_token_count\": 1799\n",
       "      }\n",
       "    }),\n",
       ")"
      ]
     },
     "execution_count": 12,
     "metadata": {},
     "output_type": "execute_result"
    }
   ],
   "source": [
    "model = genai.GenerativeModel('models/gemini-1.5-flash')\n",
    "gemini_chat = model.start_chat()\n",
    "answer = gemini_chat.send_message(prompt)\n",
    "answer"
   ]
  },
  {
   "cell_type": "code",
   "execution_count": 13,
   "metadata": {},
   "outputs": [
    {
     "name": "stdout",
     "output_type": "stream",
     "text": [
      "Question :  What can you tell me about the college Delhi Technical campus ?\n"
     ]
    },
    {
     "data": {
      "text/markdown": [
       "Delhi Technical Campus sounds like a great place to study! It's part of IP University, which has some pretty impressive accreditations like a QS World Ranking, NAAC A++ rating, and NIRF 74 ranking.  They have a strong focus on practical learning with partnerships with companies like Oracle Academy, Autodesk, and Amazon Web Services.  \n",
       "\n",
       "You'll have lots of opportunities to get hands-on experience through workshops, technical activities, and hackathons. There are also technical and cultural societies to join so you can explore your interests outside the classroom.  \n",
       "\n",
       "The placement record is pretty good too, with a high placement rate and average salary of 6-7 LPA. You can get help from their placement cell to land a job at companies like IBM, HCL, TCS, Cognizant, Deloitte Capgemini, Infosys, WIPRO, Amazon, and Adobe.\n",
       "\n",
       "If you're interested in entrepreneurship, there's an Innovation Council / E-Cell that can help you turn your ideas into reality. They offer mentorship programs, workshops, and even funding opportunities for startups.  \n",
       "\n",
       "Overall, Delhi Technical Campus seems like a good choice for students looking for a well-rounded education with good career prospects.\n"
      ],
      "text/plain": [
       "<IPython.core.display.Markdown object>"
      ]
     },
     "execution_count": 13,
     "metadata": {},
     "output_type": "execute_result"
    }
   ],
   "source": [
    "print(\"Question : \",query)\n",
    "Markdown(answer.text)"
   ]
  },
  {
   "cell_type": "code",
   "execution_count": 14,
   "metadata": {},
   "outputs": [
    {
     "data": {
      "text/markdown": [
       "Well, it looks like there are a couple of things related to AI at Delhi Technical Campus! \n",
       "\n",
       "First, you can actually major in **Artificial Intelligence and Machine Learning (AI&ML)** or **AI & Data Science**! These are both B.Tech programs, so you'd be getting a great foundation in the field.  \n",
       "\n",
       "Second, they also offer value-added courses in **AI and Machine Learning**, so even if you choose another program, you can still learn more about it.  Plus, there's an **MOU with i-STEP** to provide international masterclass/certificate courses on AI, Data Science, Cyber security, and Entrepreneurship from Deakin University and UNSW University in Australia. \n",
       "\n",
       "So, yeah, Delhi Technical Campus seems to take AI seriously!  If you're interested in the field, it's definitely a place to consider. \n"
      ],
      "text/plain": [
       "<IPython.core.display.Markdown object>"
      ]
     },
     "execution_count": 14,
     "metadata": {},
     "output_type": "execute_result"
    }
   ],
   "source": [
    "query = \"Which one is releated to AI ?\"\n",
    "passage = find_best_passage(query=query, dataframe=df)\n",
    "prompt = make_prompt(query,passage)\n",
    "answer = gemini_chat.send_message(prompt)\n",
    "Markdown(answer.text)"
   ]
  },
  {
   "cell_type": "code",
   "execution_count": 15,
   "metadata": {},
   "outputs": [
    {
     "data": {
      "text/markdown": [
       "Hmm, you didn't tell me what you're comparing!  Can you tell me which two things you want me to compare?   \n",
       "\n",
       "For example, are you asking about:\n",
       "\n",
       "* **Two different B.Tech programs?** (like Computer Science Engineering vs. Artificial Intelligence and Machine Learning)\n",
       "* **Hostel options?** (like triple sharing vs. double sharing)\n",
       "* **Scholarship categories?** (like Category 1 vs. Category 2)\n",
       "\n",
       "Once you tell me what you're interested in comparing, I can give you some insights based on the information provided. \n"
      ],
      "text/plain": [
       "<IPython.core.display.Markdown object>"
      ]
     },
     "execution_count": 15,
     "metadata": {},
     "output_type": "execute_result"
    }
   ],
   "source": [
    "query = \"Which better among them ?\"\n",
    "passage = find_best_passage(query=query, dataframe=df)\n",
    "prompt = make_prompt(query,passage)\n",
    "answer = gemini_chat.send_message(prompt)\n",
    "Markdown(answer.text)"
   ]
  }
 ],
 "metadata": {
  "kernelspec": {
   "display_name": "Python 3",
   "language": "python",
   "name": "python3"
  },
  "language_info": {
   "codemirror_mode": {
    "name": "ipython",
    "version": 3
   },
   "file_extension": ".py",
   "mimetype": "text/x-python",
   "name": "python",
   "nbconvert_exporter": "python",
   "pygments_lexer": "ipython3",
   "version": "3.12.7"
  }
 },
 "nbformat": 4,
 "nbformat_minor": 2
}
